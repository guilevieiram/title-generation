{
 "cells": [
  {
   "cell_type": "code",
   "execution_count": 1,
   "metadata": {},
   "outputs": [],
   "source": [
    "import nltk\n",
    "import pandas as pd\n",
    "import torch\n",
    "from titlegen.score import avg_score"
   ]
  },
  {
   "cell_type": "code",
   "execution_count": 2,
   "metadata": {},
   "outputs": [
    {
     "name": "stderr",
     "output_type": "stream",
     "text": [
      "[nltk_data] Downloading package punkt to\n",
      "[nltk_data]     /users/eleves-b/2021/guilherme.vieira-\n",
      "[nltk_data]     manhaes/nltk_data...\n",
      "[nltk_data]   Package punkt is already up-to-date!\n"
     ]
    },
    {
     "data": {
      "text/plain": [
       "True"
      ]
     },
     "execution_count": 2,
     "metadata": {},
     "output_type": "execute_result"
    }
   ],
   "source": [
    "nltk.download('punkt')"
   ]
  },
  {
   "cell_type": "code",
   "execution_count": 3,
   "metadata": {},
   "outputs": [],
   "source": [
    "validation_df = pd.read_csv('../data/validation.csv')\n",
    "train_df = pd.read_csv('../data/train.csv')\n",
    "test_df = pd.read_csv('../data/test_text.csv')"
   ]
  },
  {
   "cell_type": "code",
   "execution_count": 4,
   "metadata": {},
   "outputs": [],
   "source": [
    "from nltk import sent_tokenize"
   ]
  },
  {
   "cell_type": "code",
   "execution_count": 5,
   "metadata": {},
   "outputs": [],
   "source": [
    "train_df['text_sents'] = train_df['text'].apply(lambda x: sent_tokenize(x, language='french'))\n",
    "validation_df['text_sents'] = validation_df['text'].apply(lambda x: sent_tokenize(x, language='french'))\n",
    "test_df['text_sents'] = test_df['text'].apply(lambda x: sent_tokenize(x, language='french'))"
   ]
  },
  {
   "cell_type": "code",
   "execution_count": 6,
   "metadata": {},
   "outputs": [],
   "source": [
    "train_df['titles_sents'] = train_df['titles'].apply(lambda x: sent_tokenize(x, language='french'))\n",
    "validation_df['titles_sents'] = validation_df['titles'].apply(lambda x: sent_tokenize(x, language='french'))"
   ]
  },
  {
   "cell_type": "code",
   "execution_count": 7,
   "metadata": {},
   "outputs": [
    {
     "data": {
      "text/html": [
       "<div>\n",
       "<style scoped>\n",
       "    .dataframe tbody tr th:only-of-type {\n",
       "        vertical-align: middle;\n",
       "    }\n",
       "\n",
       "    .dataframe tbody tr th {\n",
       "        vertical-align: top;\n",
       "    }\n",
       "\n",
       "    .dataframe thead th {\n",
       "        text-align: right;\n",
       "    }\n",
       "</style>\n",
       "<table border=\"1\" class=\"dataframe\">\n",
       "  <thead>\n",
       "    <tr style=\"text-align: right;\">\n",
       "      <th></th>\n",
       "      <th>text</th>\n",
       "      <th>titles</th>\n",
       "      <th>text_sents</th>\n",
       "      <th>titles_sents</th>\n",
       "    </tr>\n",
       "  </thead>\n",
       "  <tbody>\n",
       "    <tr>\n",
       "      <th>0</th>\n",
       "      <td>Thierry Mariani sur la liste du Rassemblement ...</td>\n",
       "      <td>L'information n'a pas été confirmée par l'inté...</td>\n",
       "      <td>[Thierry Mariani sur la liste du Rassemblement...</td>\n",
       "      <td>[L'information n'a pas été confirmée par l'int...</td>\n",
       "    </tr>\n",
       "    <tr>\n",
       "      <th>1</th>\n",
       "      <td>C'est désormais officiel : Alain Juppé n'est p...</td>\n",
       "      <td>Le maire de Bordeaux ne fait plus partie des R...</td>\n",
       "      <td>[C'est désormais officiel : Alain Juppé n'est ...</td>\n",
       "      <td>[Le maire de Bordeaux ne fait plus partie des ...</td>\n",
       "    </tr>\n",
       "    <tr>\n",
       "      <th>2</th>\n",
       "      <td>La mesure est décriée par les avocats et les m...</td>\n",
       "      <td>En 2020, les tribunaux d'instance fusionnent a...</td>\n",
       "      <td>[La mesure est décriée par les avocats et les ...</td>\n",
       "      <td>[En 2020, les tribunaux d'instance fusionnent ...</td>\n",
       "    </tr>\n",
       "    <tr>\n",
       "      <th>3</th>\n",
       "      <td>Dans une interview accordée au Figaro mercredi...</td>\n",
       "      <td>Les médecins jugés \"gros prescripteurs d'arrêt...</td>\n",
       "      <td>[Dans une interview accordée au Figaro mercred...</td>\n",
       "      <td>[Les médecins jugés \"gros prescripteurs d'arrê...</td>\n",
       "    </tr>\n",
       "    <tr>\n",
       "      <th>4</th>\n",
       "      <td>Le préjudice est estimé à 2 millions d'euros. ...</td>\n",
       "      <td>Il aura fallu mobiliser 90 gendarmes pour cett...</td>\n",
       "      <td>[Le préjudice est estimé à 2 millions d'euros....</td>\n",
       "      <td>[Il aura fallu mobiliser 90 gendarmes pour cet...</td>\n",
       "    </tr>\n",
       "  </tbody>\n",
       "</table>\n",
       "</div>"
      ],
      "text/plain": [
       "                                                text  \\\n",
       "0  Thierry Mariani sur la liste du Rassemblement ...   \n",
       "1  C'est désormais officiel : Alain Juppé n'est p...   \n",
       "2  La mesure est décriée par les avocats et les m...   \n",
       "3  Dans une interview accordée au Figaro mercredi...   \n",
       "4  Le préjudice est estimé à 2 millions d'euros. ...   \n",
       "\n",
       "                                              titles  \\\n",
       "0  L'information n'a pas été confirmée par l'inté...   \n",
       "1  Le maire de Bordeaux ne fait plus partie des R...   \n",
       "2  En 2020, les tribunaux d'instance fusionnent a...   \n",
       "3  Les médecins jugés \"gros prescripteurs d'arrêt...   \n",
       "4  Il aura fallu mobiliser 90 gendarmes pour cett...   \n",
       "\n",
       "                                          text_sents  \\\n",
       "0  [Thierry Mariani sur la liste du Rassemblement...   \n",
       "1  [C'est désormais officiel : Alain Juppé n'est ...   \n",
       "2  [La mesure est décriée par les avocats et les ...   \n",
       "3  [Dans une interview accordée au Figaro mercred...   \n",
       "4  [Le préjudice est estimé à 2 millions d'euros....   \n",
       "\n",
       "                                        titles_sents  \n",
       "0  [L'information n'a pas été confirmée par l'int...  \n",
       "1  [Le maire de Bordeaux ne fait plus partie des ...  \n",
       "2  [En 2020, les tribunaux d'instance fusionnent ...  \n",
       "3  [Les médecins jugés \"gros prescripteurs d'arrê...  \n",
       "4  [Il aura fallu mobiliser 90 gendarmes pour cet...  "
      ]
     },
     "execution_count": 7,
     "metadata": {},
     "output_type": "execute_result"
    }
   ],
   "source": [
    "train_df.head()"
   ]
  },
  {
   "cell_type": "code",
   "execution_count": 8,
   "metadata": {},
   "outputs": [],
   "source": [
    "device = 'cuda' if torch.cuda.is_available() else 'cpu'"
   ]
  },
  {
   "cell_type": "code",
   "execution_count": 9,
   "metadata": {},
   "outputs": [
    {
     "name": "stderr",
     "output_type": "stream",
     "text": [
      "2024-03-13 09:37:55.017028: E external/local_xla/xla/stream_executor/cuda/cuda_dnn.cc:9261] Unable to register cuDNN factory: Attempting to register factory for plugin cuDNN when one has already been registered\n",
      "2024-03-13 09:37:55.017071: E external/local_xla/xla/stream_executor/cuda/cuda_fft.cc:607] Unable to register cuFFT factory: Attempting to register factory for plugin cuFFT when one has already been registered\n",
      "2024-03-13 09:37:55.222372: E external/local_xla/xla/stream_executor/cuda/cuda_blas.cc:1515] Unable to register cuBLAS factory: Attempting to register factory for plugin cuBLAS when one has already been registered\n",
      "2024-03-13 09:37:55.629334: I tensorflow/core/platform/cpu_feature_guard.cc:182] This TensorFlow binary is optimized to use available CPU instructions in performance-critical operations.\n",
      "To enable the following instructions: AVX2 FMA, in other operations, rebuild TensorFlow with the appropriate compiler flags.\n",
      "2024-03-13 09:37:57.704218: W tensorflow/compiler/tf2tensorrt/utils/py_utils.cc:38] TF-TRT Warning: Could not find TensorRT\n"
     ]
    }
   ],
   "source": [
    "from sentence_transformers import SentenceTransformer\n",
    "model =  SentenceTransformer(\"dangvantuan/sentence-camembert-base\").to(device)"
   ]
  },
  {
   "cell_type": "code",
   "execution_count": 10,
   "metadata": {},
   "outputs": [
    {
     "data": {
      "text/plain": [
       "PreTrainedTokenizerFast(name_or_path='/users/eleves-b/2021/guilherme.vieira-manhaes/.cache/torch/sentence_transformers/dangvantuan_sentence-camembert-base/', vocab_size=32005, model_max_len=1000000000000000019884624838656, is_fast=True, padding_side='right', truncation_side='right', special_tokens={'bos_token': '<s>', 'eos_token': '</s>', 'unk_token': '<unk>', 'sep_token': '</s>', 'pad_token': '<pad>', 'cls_token': '<s>', 'mask_token': AddedToken(\"<mask>\", rstrip=False, lstrip=True, single_word=False, normalized=True), 'additional_special_tokens': ['<s>NOTUSED', '</s>NOTUSED']})"
      ]
     },
     "execution_count": 10,
     "metadata": {},
     "output_type": "execute_result"
    }
   ],
   "source": [
    "tokenizer = model.tokenizer\n",
    "tokenizer"
   ]
  },
  {
   "cell_type": "markdown",
   "metadata": {},
   "source": [
    "# trying knn"
   ]
  },
  {
   "cell_type": "code",
   "execution_count": 11,
   "metadata": {},
   "outputs": [
    {
     "name": "stdout",
     "output_type": "stream",
     "text": [
      "Requirement already satisfied: numpy in /users/eleves-b/2021/guilherme.vieira-manhaes/miniconda3/lib/python3.9/site-packages (1.26.3)\n",
      "Requirement already satisfied: scipy in /users/eleves-b/2021/guilherme.vieira-manhaes/miniconda3/lib/python3.9/site-packages (1.11.3)\n"
     ]
    }
   ],
   "source": [
    "!pip install numpy scipy"
   ]
  },
  {
   "cell_type": "code",
   "execution_count": 12,
   "metadata": {},
   "outputs": [],
   "source": [
    "import numpy as np\n",
    "from scipy.spatial.distance import cdist\n",
    "\n",
    "def knn_cosine_distance(vectors, target, k):\n",
    "    \"\"\"\n",
    "    Find the k nearest neighbors of the target vector using cosine distance.\n",
    "\n",
    "    :param vectors: A 2D numpy array of vectors.\n",
    "    :param target: The target vector.\n",
    "    :param k: The number of nearest neighbors to find.\n",
    "    :return: The indices of the k nearest neighbors.\n",
    "    \"\"\"\n",
    "    # Calculate cosine distances between target and all vectors\n",
    "    distances = cdist([target], vectors, 'cosine')[0]\n",
    "\n",
    "    # Get the indices of the k smallest distances\n",
    "    nearest_indices = np.argsort(distances)[:k]\n",
    "\n",
    "    return nearest_indices"
   ]
  },
  {
   "cell_type": "code",
   "execution_count": 13,
   "metadata": {},
   "outputs": [
    {
     "data": {
      "text/html": [
       "<div>\n",
       "<style scoped>\n",
       "    .dataframe tbody tr th:only-of-type {\n",
       "        vertical-align: middle;\n",
       "    }\n",
       "\n",
       "    .dataframe tbody tr th {\n",
       "        vertical-align: top;\n",
       "    }\n",
       "\n",
       "    .dataframe thead th {\n",
       "        text-align: right;\n",
       "    }\n",
       "</style>\n",
       "<table border=\"1\" class=\"dataframe\">\n",
       "  <thead>\n",
       "    <tr style=\"text-align: right;\">\n",
       "      <th></th>\n",
       "      <th>text</th>\n",
       "      <th>titles</th>\n",
       "      <th>text_sents</th>\n",
       "      <th>titles_sents</th>\n",
       "    </tr>\n",
       "  </thead>\n",
       "  <tbody>\n",
       "    <tr>\n",
       "      <th>0</th>\n",
       "      <td>Thierry Mariani sur la liste du Rassemblement ...</td>\n",
       "      <td>L'information n'a pas été confirmée par l'inté...</td>\n",
       "      <td>[Thierry Mariani sur la liste du Rassemblement...</td>\n",
       "      <td>[L'information n'a pas été confirmée par l'int...</td>\n",
       "    </tr>\n",
       "    <tr>\n",
       "      <th>1</th>\n",
       "      <td>C'est désormais officiel : Alain Juppé n'est p...</td>\n",
       "      <td>Le maire de Bordeaux ne fait plus partie des R...</td>\n",
       "      <td>[C'est désormais officiel : Alain Juppé n'est ...</td>\n",
       "      <td>[Le maire de Bordeaux ne fait plus partie des ...</td>\n",
       "    </tr>\n",
       "    <tr>\n",
       "      <th>2</th>\n",
       "      <td>La mesure est décriée par les avocats et les m...</td>\n",
       "      <td>En 2020, les tribunaux d'instance fusionnent a...</td>\n",
       "      <td>[La mesure est décriée par les avocats et les ...</td>\n",
       "      <td>[En 2020, les tribunaux d'instance fusionnent ...</td>\n",
       "    </tr>\n",
       "    <tr>\n",
       "      <th>3</th>\n",
       "      <td>Dans une interview accordée au Figaro mercredi...</td>\n",
       "      <td>Les médecins jugés \"gros prescripteurs d'arrêt...</td>\n",
       "      <td>[Dans une interview accordée au Figaro mercred...</td>\n",
       "      <td>[Les médecins jugés \"gros prescripteurs d'arrê...</td>\n",
       "    </tr>\n",
       "    <tr>\n",
       "      <th>4</th>\n",
       "      <td>Le préjudice est estimé à 2 millions d'euros. ...</td>\n",
       "      <td>Il aura fallu mobiliser 90 gendarmes pour cett...</td>\n",
       "      <td>[Le préjudice est estimé à 2 millions d'euros....</td>\n",
       "      <td>[Il aura fallu mobiliser 90 gendarmes pour cet...</td>\n",
       "    </tr>\n",
       "  </tbody>\n",
       "</table>\n",
       "</div>"
      ],
      "text/plain": [
       "                                                text  \\\n",
       "0  Thierry Mariani sur la liste du Rassemblement ...   \n",
       "1  C'est désormais officiel : Alain Juppé n'est p...   \n",
       "2  La mesure est décriée par les avocats et les m...   \n",
       "3  Dans une interview accordée au Figaro mercredi...   \n",
       "4  Le préjudice est estimé à 2 millions d'euros. ...   \n",
       "\n",
       "                                              titles  \\\n",
       "0  L'information n'a pas été confirmée par l'inté...   \n",
       "1  Le maire de Bordeaux ne fait plus partie des R...   \n",
       "2  En 2020, les tribunaux d'instance fusionnent a...   \n",
       "3  Les médecins jugés \"gros prescripteurs d'arrêt...   \n",
       "4  Il aura fallu mobiliser 90 gendarmes pour cett...   \n",
       "\n",
       "                                          text_sents  \\\n",
       "0  [Thierry Mariani sur la liste du Rassemblement...   \n",
       "1  [C'est désormais officiel : Alain Juppé n'est ...   \n",
       "2  [La mesure est décriée par les avocats et les ...   \n",
       "3  [Dans une interview accordée au Figaro mercred...   \n",
       "4  [Le préjudice est estimé à 2 millions d'euros....   \n",
       "\n",
       "                                        titles_sents  \n",
       "0  [L'information n'a pas été confirmée par l'int...  \n",
       "1  [Le maire de Bordeaux ne fait plus partie des ...  \n",
       "2  [En 2020, les tribunaux d'instance fusionnent ...  \n",
       "3  [Les médecins jugés \"gros prescripteurs d'arrê...  \n",
       "4  [Il aura fallu mobiliser 90 gendarmes pour cet...  "
      ]
     },
     "execution_count": 13,
     "metadata": {},
     "output_type": "execute_result"
    }
   ],
   "source": [
    "train_df.head()"
   ]
  },
  {
   "cell_type": "code",
   "execution_count": 14,
   "metadata": {},
   "outputs": [
    {
     "data": {
      "text/plain": [
       "0    On n'est pas obligé de l'annoncer tout de suit...\n",
       "dtype: object"
      ]
     },
     "execution_count": 14,
     "metadata": {},
     "output_type": "execute_result"
    }
   ],
   "source": [
    "def predict(data, k):\n",
    "    t_enc = model.encode(data['text_sents']) \n",
    "    a_enc = model.encode(data['titles_sents']) \n",
    "    idx = knn_cosine_distance(t_enc, a_enc.mean(axis=0), k)\n",
    "    idx.sort()\n",
    "    sents = [data['text_sents'][i] for i in idx]\n",
    "    return \"\\n\".join(sents)\n",
    "\n",
    "train_df[:1].apply(lambda x: predict(x, 3), axis=1)\n"
   ]
  },
  {
   "cell_type": "code",
   "execution_count": 15,
   "metadata": {},
   "outputs": [],
   "source": [
    "sub_train = train_df.sample(1000)"
   ]
  },
  {
   "cell_type": "code",
   "execution_count": 16,
   "metadata": {},
   "outputs": [
    {
     "name": "stdout",
     "output_type": "stream",
     "text": [
      "1\n"
     ]
    },
    {
     "name": "stderr",
     "output_type": "stream",
     "text": [
      "Processing: 100%|██████████| 1000/1000 [00:28<00:00, 34.82it/s]\n"
     ]
    },
    {
     "name": "stdout",
     "output_type": "stream",
     "text": [
      "2\n"
     ]
    },
    {
     "name": "stderr",
     "output_type": "stream",
     "text": [
      "Processing: 100%|██████████| 1000/1000 [00:28<00:00, 34.59it/s]\n"
     ]
    },
    {
     "name": "stdout",
     "output_type": "stream",
     "text": [
      "3\n"
     ]
    },
    {
     "name": "stderr",
     "output_type": "stream",
     "text": [
      "Processing: 100%|██████████| 1000/1000 [00:29<00:00, 34.14it/s]\n"
     ]
    },
    {
     "name": "stdout",
     "output_type": "stream",
     "text": [
      "4\n"
     ]
    },
    {
     "name": "stderr",
     "output_type": "stream",
     "text": [
      "Processing: 100%|██████████| 1000/1000 [00:29<00:00, 33.58it/s]\n"
     ]
    }
   ],
   "source": [
    "from tqdm import tqdm\n",
    "tqdm.pandas(desc=\"Processing\")\n",
    "\n",
    "for k in range (1,5):\n",
    "    print(k)\n",
    "    sub_train[f'titles_{k}'] = sub_train.progress_apply(lambda x: predict(x, k), axis=1)"
   ]
  },
  {
   "cell_type": "code",
   "execution_count": 17,
   "metadata": {},
   "outputs": [
    {
     "data": {
      "text/plain": [
       "0    On n'est pas obligé de l'annoncer tout de suit...\n",
       "dtype: object"
      ]
     },
     "execution_count": 17,
     "metadata": {},
     "output_type": "execute_result"
    }
   ],
   "source": [
    "def compare_avg(data, k):\n",
    "    t_enc = model.encode(data['text_sents']) \n",
    "    idx = knn_cosine_distance(t_enc, t_enc.mean(axis=0), k)\n",
    "    idx.sort()\n",
    "    sents = [data['text_sents'][i] for i in idx]\n",
    "    return \"\\n\".join(sents)\n",
    "\n",
    "train_df[:1].apply(lambda x: predict(x, 3), axis=1)\n"
   ]
  },
  {
   "cell_type": "code",
   "execution_count": 18,
   "metadata": {},
   "outputs": [
    {
     "name": "stdout",
     "output_type": "stream",
     "text": [
      "1\n"
     ]
    },
    {
     "name": "stderr",
     "output_type": "stream",
     "text": [
      "Processing: 100%|██████████| 1000/1000 [00:22<00:00, 44.53it/s]\n"
     ]
    },
    {
     "name": "stdout",
     "output_type": "stream",
     "text": [
      "2\n"
     ]
    },
    {
     "name": "stderr",
     "output_type": "stream",
     "text": [
      "Processing: 100%|██████████| 1000/1000 [00:22<00:00, 43.98it/s]\n"
     ]
    },
    {
     "name": "stdout",
     "output_type": "stream",
     "text": [
      "3\n"
     ]
    },
    {
     "name": "stderr",
     "output_type": "stream",
     "text": [
      "Processing: 100%|██████████| 1000/1000 [00:22<00:00, 43.99it/s]\n"
     ]
    },
    {
     "name": "stdout",
     "output_type": "stream",
     "text": [
      "4\n"
     ]
    },
    {
     "name": "stderr",
     "output_type": "stream",
     "text": [
      "Processing: 100%|██████████| 1000/1000 [00:22<00:00, 43.90it/s]\n"
     ]
    }
   ],
   "source": [
    "for k in range (1,5):\n",
    "    print(k)\n",
    "    sub_train[f'titles_mean_{k}'] = sub_train.progress_apply(lambda x: compare_avg(x, k), axis=1)"
   ]
  },
  {
   "cell_type": "code",
   "execution_count": 19,
   "metadata": {},
   "outputs": [
    {
     "data": {
      "text/plain": [
       "[(1, 0.24354306005260704),\n",
       " (2, 0.21286853704648048),\n",
       " (3, 0.18122382822328223),\n",
       " (4, 0.15878471188247242)]"
      ]
     },
     "execution_count": 19,
     "metadata": {},
     "output_type": "execute_result"
    }
   ],
   "source": [
    "scores=[]\n",
    "for i in range(1, 5):\n",
    "    score=avg_score(sub_train[f'titles_{i}'], sub_train['titles'])\n",
    "    scores.append((i, score))\n",
    "scores"
   ]
  },
  {
   "cell_type": "code",
   "execution_count": 20,
   "metadata": {},
   "outputs": [
    {
     "data": {
      "text/plain": [
       "[(1, 0.1564160911306488),\n",
       " (2, 0.15127199384947476),\n",
       " (3, 0.140372433436728),\n",
       " (4, 0.1309837798439117)]"
      ]
     },
     "execution_count": 20,
     "metadata": {},
     "output_type": "execute_result"
    }
   ],
   "source": [
    "scores=[]\n",
    "for i in range(1, 5):\n",
    "    score=avg_score(sub_train[f'titles_mean_{i}'], sub_train['titles'])\n",
    "    scores.append((i, score))\n",
    "scores"
   ]
  },
  {
   "cell_type": "markdown",
   "metadata": {},
   "source": [
    "# Trying linear model"
   ]
  },
  {
   "cell_type": "code",
   "execution_count": 21,
   "metadata": {},
   "outputs": [
    {
     "data": {
      "text/html": [
       "<div>\n",
       "<style scoped>\n",
       "    .dataframe tbody tr th:only-of-type {\n",
       "        vertical-align: middle;\n",
       "    }\n",
       "\n",
       "    .dataframe tbody tr th {\n",
       "        vertical-align: top;\n",
       "    }\n",
       "\n",
       "    .dataframe thead th {\n",
       "        text-align: right;\n",
       "    }\n",
       "</style>\n",
       "<table border=\"1\" class=\"dataframe\">\n",
       "  <thead>\n",
       "    <tr style=\"text-align: right;\">\n",
       "      <th></th>\n",
       "      <th>text</th>\n",
       "      <th>titles</th>\n",
       "      <th>text_sents</th>\n",
       "      <th>titles_sents</th>\n",
       "    </tr>\n",
       "  </thead>\n",
       "  <tbody>\n",
       "    <tr>\n",
       "      <th>0</th>\n",
       "      <td>Thierry Mariani sur la liste du Rassemblement ...</td>\n",
       "      <td>L'information n'a pas été confirmée par l'inté...</td>\n",
       "      <td>[Thierry Mariani sur la liste du Rassemblement...</td>\n",
       "      <td>[L'information n'a pas été confirmée par l'int...</td>\n",
       "    </tr>\n",
       "    <tr>\n",
       "      <th>1</th>\n",
       "      <td>C'est désormais officiel : Alain Juppé n'est p...</td>\n",
       "      <td>Le maire de Bordeaux ne fait plus partie des R...</td>\n",
       "      <td>[C'est désormais officiel : Alain Juppé n'est ...</td>\n",
       "      <td>[Le maire de Bordeaux ne fait plus partie des ...</td>\n",
       "    </tr>\n",
       "    <tr>\n",
       "      <th>2</th>\n",
       "      <td>La mesure est décriée par les avocats et les m...</td>\n",
       "      <td>En 2020, les tribunaux d'instance fusionnent a...</td>\n",
       "      <td>[La mesure est décriée par les avocats et les ...</td>\n",
       "      <td>[En 2020, les tribunaux d'instance fusionnent ...</td>\n",
       "    </tr>\n",
       "    <tr>\n",
       "      <th>3</th>\n",
       "      <td>Dans une interview accordée au Figaro mercredi...</td>\n",
       "      <td>Les médecins jugés \"gros prescripteurs d'arrêt...</td>\n",
       "      <td>[Dans une interview accordée au Figaro mercred...</td>\n",
       "      <td>[Les médecins jugés \"gros prescripteurs d'arrê...</td>\n",
       "    </tr>\n",
       "    <tr>\n",
       "      <th>4</th>\n",
       "      <td>Le préjudice est estimé à 2 millions d'euros. ...</td>\n",
       "      <td>Il aura fallu mobiliser 90 gendarmes pour cett...</td>\n",
       "      <td>[Le préjudice est estimé à 2 millions d'euros....</td>\n",
       "      <td>[Il aura fallu mobiliser 90 gendarmes pour cet...</td>\n",
       "    </tr>\n",
       "  </tbody>\n",
       "</table>\n",
       "</div>"
      ],
      "text/plain": [
       "                                                text  \\\n",
       "0  Thierry Mariani sur la liste du Rassemblement ...   \n",
       "1  C'est désormais officiel : Alain Juppé n'est p...   \n",
       "2  La mesure est décriée par les avocats et les m...   \n",
       "3  Dans une interview accordée au Figaro mercredi...   \n",
       "4  Le préjudice est estimé à 2 millions d'euros. ...   \n",
       "\n",
       "                                              titles  \\\n",
       "0  L'information n'a pas été confirmée par l'inté...   \n",
       "1  Le maire de Bordeaux ne fait plus partie des R...   \n",
       "2  En 2020, les tribunaux d'instance fusionnent a...   \n",
       "3  Les médecins jugés \"gros prescripteurs d'arrêt...   \n",
       "4  Il aura fallu mobiliser 90 gendarmes pour cett...   \n",
       "\n",
       "                                          text_sents  \\\n",
       "0  [Thierry Mariani sur la liste du Rassemblement...   \n",
       "1  [C'est désormais officiel : Alain Juppé n'est ...   \n",
       "2  [La mesure est décriée par les avocats et les ...   \n",
       "3  [Dans une interview accordée au Figaro mercred...   \n",
       "4  [Le préjudice est estimé à 2 millions d'euros....   \n",
       "\n",
       "                                        titles_sents  \n",
       "0  [L'information n'a pas été confirmée par l'int...  \n",
       "1  [Le maire de Bordeaux ne fait plus partie des ...  \n",
       "2  [En 2020, les tribunaux d'instance fusionnent ...  \n",
       "3  [Les médecins jugés \"gros prescripteurs d'arrê...  \n",
       "4  [Il aura fallu mobiliser 90 gendarmes pour cet...  "
      ]
     },
     "execution_count": 21,
     "metadata": {},
     "output_type": "execute_result"
    }
   ],
   "source": [
    "train_df.head()"
   ]
  },
  {
   "cell_type": "code",
   "execution_count": 22,
   "metadata": {},
   "outputs": [
    {
     "data": {
      "text/plain": [
       "[[1, 2], [3]]"
      ]
     },
     "execution_count": 22,
     "metadata": {},
     "output_type": "execute_result"
    }
   ],
   "source": [
    "def pad_list(l, length, el):\n",
    "    if len(l)<length:\n",
    "        return l + [el]*(length - len(l))\n",
    "    return l[:length]\n",
    "pad_list([[1, 2], [3]], 2, [])"
   ]
  },
  {
   "cell_type": "code",
   "execution_count": 23,
   "metadata": {},
   "outputs": [],
   "source": [
    "max_num_sents = 30\n",
    "max_sent_len= 128"
   ]
  },
  {
   "cell_type": "code",
   "execution_count": 24,
   "metadata": {},
   "outputs": [],
   "source": [
    "def get_sent_emb(x):\n",
    "    item = x['text_sents']\n",
    "    item = pad_list(item, max_num_sents, tokenizer.pad_token)\n",
    "    return model.encode(item)\n",
    "\n",
    "def get_title_emb(x):\n",
    "    out = x['titles_sents']\n",
    "    return model.encode(out).mean(axis=0)"
   ]
  },
  {
   "cell_type": "code",
   "execution_count": 25,
   "metadata": {},
   "outputs": [],
   "source": [
    "from torch.utils.data import Dataset, DataLoader\n",
    "\n",
    "class TextDataset(Dataset):\n",
    "    def __init__(self, data, sample=None):\n",
    "        if sample is not None:\n",
    "            data=data.sample(sample).reset_index()\n",
    "        self.data = data\n",
    "        self.data['sent_embs'] = self.data.progress_apply(get_sent_emb, axis=1)\n",
    "        self.data['title_embs'] = self.data.progress_apply(get_title_emb, axis=1)\n",
    "\n",
    "    def __len__(self):\n",
    "        return len(self.data)\n",
    "\n",
    "class TrainDS(TextDataset):\n",
    "    def __getitem__(self, idx):\n",
    "        in_embeddings = torch.tensor(self.data.loc[idx, 'sent_embs']).to(device)\n",
    "        out_embeddings = torch.tensor(self.data.loc[idx, 'title_embs']).to(device)\n",
    "        return in_embeddings, out_embeddings\n",
    "    \n",
    "class ValDS(TextDataset):\n",
    "    def __getitem__(self, idx):\n",
    "        item = self.data.loc[idx, 'text_sents']\n",
    "        item = pad_list(item, max_num_sents, tokenizer.pad_token)\n",
    "        in_embeddings = torch.tensor(self.data.loc[idx, 'sent_embs']).to(device)\n",
    "        return in_embeddings, item, self.data.loc[idx, 'titles']\n",
    "    \n",
    "class TestDS(TextDataset):\n",
    "    def __init__(self, data):\n",
    "        self.data = data\n",
    "        self.data['sent_embs'] = self.data.progress_apply(get_sent_emb, axis=1)\n",
    "        \n",
    "    def __getitem__(self, idx):\n",
    "        item = self.data.loc[idx, 'text_sents']\n",
    "        item = pad_list(item, max_num_sents, tokenizer.pad_token)\n",
    "        in_embeddings = torch.tensor(self.data.loc[idx, 'sent_embs']).to(device)\n",
    "        return in_embeddings, item"
   ]
  },
  {
   "cell_type": "code",
   "execution_count": 34,
   "metadata": {},
   "outputs": [
    {
     "name": "stderr",
     "output_type": "stream",
     "text": [
      "Processing: 100%|██████████| 10000/10000 [08:42<00:00, 19.13it/s]\n",
      "Processing: 100%|██████████| 10000/10000 [01:18<00:00, 126.64it/s]\n"
     ]
    }
   ],
   "source": [
    "train_dataset = TrainDS(train_df, 10000)\n",
    "train_dataloader = DataLoader(train_dataset, batch_size=32, shuffle=True)"
   ]
  },
  {
   "cell_type": "code",
   "execution_count": null,
   "metadata": {},
   "outputs": [],
   "source": [
    "val_dataset = ValDS(validation_df, 1000)\n",
    "val_dataloader = DataLoader(val_dataset, batch_size=32, shuffle=True)"
   ]
  },
  {
   "cell_type": "code",
   "execution_count": null,
   "metadata": {},
   "outputs": [],
   "source": [
    "test_dataset = TestDS(test_df)\n",
    "test_dataloader = DataLoader(test_dataset, batch_size=32, shuffle=False)"
   ]
  },
  {
   "cell_type": "code",
   "execution_count": 26,
   "metadata": {},
   "outputs": [
    {
     "name": "stderr",
     "output_type": "stream",
     "text": [
      "Processing: 100%|██████████| 5000/5000 [04:20<00:00, 19.17it/s]\n",
      "Processing: 100%|██████████| 5000/5000 [00:39<00:00, 126.25it/s]\n",
      "Processing: 100%|██████████| 1000/1000 [00:52<00:00, 19.17it/s]\n",
      "Processing: 100%|██████████| 1000/1000 [00:07<00:00, 127.03it/s]\n",
      "Processing: 100%|██████████| 1500/1500 [01:18<00:00, 19.10it/s]\n",
      "Processing: 100%|██████████| 1500/1500 [01:18<00:00, 19.03it/s]\n",
      "Processing: 100%|██████████| 1500/1500 [00:11<00:00, 126.90it/s]\n"
     ]
    }
   ],
   "source": [
    "fullval_dataset = ValDS(validation_df)\n",
    "fullval_dataloader = DataLoader(fullval_dataset, batch_size=32, shuffle=True)"
   ]
  },
  {
   "cell_type": "code",
   "execution_count": 59,
   "metadata": {},
   "outputs": [],
   "source": [
    "import torch\n",
    "import torch.nn as nn\n",
    "import torch.optim as optim\n",
    "\n",
    "class CustomModel(nn.Module):\n",
    "    def __init__(self, d, k):\n",
    "        super(CustomModel, self).__init__()\n",
    "        self.k = k\n",
    "        self.relu = nn.ReLU()\n",
    "        self.dp = nn.Dropout()\n",
    "\n",
    "        self.le1 = nn.Linear(d, 256)\n",
    "        self.le2 = nn.Linear(256, 64)\n",
    "\n",
    "        self.lin = nn.Linear(64, 64)\n",
    "\n",
    "        self.ld1 = nn.Linear(64, 256)\n",
    "        self.ld2 = nn.Linear(256, d)\n",
    "        \n",
    "        self.lf = nn.Linear(d, d)\n",
    "\n",
    "\n",
    "\n",
    "    def forward(self, x):\n",
    "        x = self.relu(self.le1(x))\n",
    "        x = self.dp(x)\n",
    "        x = self.relu(self.le2(x))\n",
    "\n",
    "        x = self.lin(x)\n",
    "\n",
    "        x = self.relu(self.ld1(x))\n",
    "        x = self.dp(x)\n",
    "        x = self.relu(self.ld2(x))\n",
    "\n",
    "        return self.lf(x).sum(dim=1)\n",
    "\n",
    "\n",
    "def train(model, train_dataloader, val_dataloader, epochs):\n",
    "\n",
    "    criterion = nn.MSELoss()\n",
    "    optimizer = optim.Adam(model.parameters())\n",
    "    l = []\n",
    "    s = []\n",
    "    for epoch in range(epochs):\n",
    "        b_loss=0\n",
    "        for data, targets in train_dataloader:\n",
    "            outputs = model(data)\n",
    "            loss = criterion(outputs, targets)\n",
    "            optimizer.zero_grad()\n",
    "            loss.backward()\n",
    "            b_loss += loss.item()\n",
    "            optimizer.step()\n",
    "        \n",
    "        score = validate(model, val_dataloader)\n",
    "        s.append(score)\n",
    "        l.append(b_loss)\n",
    "\n",
    "        print(f'Epoch [{epoch+1}/{epochs}], Loss: {b_loss:.4f}, score: {score:.4f}')\n",
    "\n",
    "    return l, s\n",
    "\n",
    "def validate(model, dataloader):\n",
    "    preds=[]\n",
    "    trues=[]    \n",
    "    for in_embeddings, sents, title in dataloader:\n",
    "        outputs = model(in_embeddings)\n",
    "        outputs = outputs.unsqueeze(-1)\n",
    "        inner = torch.bmm(in_embeddings, outputs).squeeze(-1)\n",
    "        kidxs = torch.topk(inner, k=model.k).indices.sort().values\n",
    "        choosen_sents = [\"\\n\".join([sents[idx][i] for idx in kidx]) for i, kidx in enumerate(kidxs)]\n",
    "        preds.extend(choosen_sents)\n",
    "        trues.extend(list(title))\n",
    "    score = avg_score(preds, trues)\n",
    "\n",
    "    return score\n",
    "\n",
    "\n",
    "def test(model, dataloader):\n",
    "    preds=[]\n",
    "    for in_embeddings, sents in dataloader:\n",
    "        outputs = model(in_embeddings)\n",
    "        outputs = outputs.unsqueeze(-1)\n",
    "        inner = torch.bmm(in_embeddings, outputs).squeeze(-1)\n",
    "        kidxs = torch.topk(inner, k=model.k).indices.sort().values\n",
    "        choosen_sents = [\"\\n\".join([sents[idx][i] for idx in kidx]) for i, kidx in enumerate(kidxs)]\n",
    "        preds.extend(choosen_sents)\n",
    "    return preds\n",
    "\n"
   ]
  },
  {
   "cell_type": "code",
   "execution_count": 60,
   "metadata": {},
   "outputs": [
    {
     "data": {
      "text/plain": [
       "CustomModel(\n",
       "  (relu): ReLU()\n",
       "  (dp): Dropout(p=0.5, inplace=False)\n",
       "  (le1): Linear(in_features=768, out_features=256, bias=True)\n",
       "  (le2): Linear(in_features=256, out_features=64, bias=True)\n",
       "  (lin): Linear(in_features=64, out_features=64, bias=True)\n",
       "  (ld1): Linear(in_features=64, out_features=256, bias=True)\n",
       "  (ld2): Linear(in_features=256, out_features=768, bias=True)\n",
       "  (lf): Linear(in_features=768, out_features=768, bias=True)\n",
       ")"
      ]
     },
     "execution_count": 60,
     "metadata": {},
     "output_type": "execute_result"
    }
   ],
   "source": [
    "m = CustomModel(768, 3)\n",
    "m.to(device)"
   ]
  },
  {
   "cell_type": "code",
   "execution_count": 61,
   "metadata": {},
   "outputs": [
    {
     "data": {
      "text/plain": [
       "0.1326201150327332"
      ]
     },
     "execution_count": 61,
     "metadata": {},
     "output_type": "execute_result"
    }
   ],
   "source": [
    "validate(m, val_dataloader)"
   ]
  },
  {
   "cell_type": "code",
   "execution_count": 62,
   "metadata": {},
   "outputs": [
    {
     "name": "stdout",
     "output_type": "stream",
     "text": [
      "Epoch [1/500], Loss: 3.7348, score: 0.1461\n",
      "Epoch [2/500], Loss: 2.1588, score: 0.1431\n",
      "Epoch [3/500], Loss: 2.0963, score: 0.1463\n",
      "Epoch [4/500], Loss: 2.0419, score: 0.1474\n",
      "Epoch [5/500], Loss: 2.0038, score: 0.1496\n",
      "Epoch [6/500], Loss: 1.9738, score: 0.1520\n",
      "Epoch [7/500], Loss: 1.9443, score: 0.1505\n",
      "Epoch [8/500], Loss: 1.9280, score: 0.1531\n",
      "Epoch [9/500], Loss: 1.9152, score: 0.1531\n",
      "Epoch [10/500], Loss: 1.9033, score: 0.1542\n",
      "Epoch [11/500], Loss: 1.8861, score: 0.1507\n",
      "Epoch [12/500], Loss: 1.8771, score: 0.1501\n",
      "Epoch [13/500], Loss: 1.8690, score: 0.1516\n",
      "Epoch [14/500], Loss: 1.8602, score: 0.1524\n",
      "Epoch [15/500], Loss: 1.8500, score: 0.1496\n",
      "Epoch [16/500], Loss: 1.8465, score: 0.1526\n",
      "Epoch [17/500], Loss: 1.8377, score: 0.1550\n",
      "Epoch [18/500], Loss: 1.8371, score: 0.1544\n",
      "Epoch [19/500], Loss: 1.8293, score: 0.1521\n",
      "Epoch [20/500], Loss: 1.8257, score: 0.1546\n",
      "Epoch [21/500], Loss: 1.8205, score: 0.1516\n",
      "Epoch [22/500], Loss: 1.8150, score: 0.1539\n",
      "Epoch [23/500], Loss: 1.8129, score: 0.1532\n",
      "Epoch [24/500], Loss: 1.8076, score: 0.1556\n",
      "Epoch [25/500], Loss: 1.8044, score: 0.1542\n",
      "Epoch [26/500], Loss: 1.7989, score: 0.1546\n",
      "Epoch [27/500], Loss: 1.7963, score: 0.1546\n",
      "Epoch [28/500], Loss: 1.7930, score: 0.1515\n",
      "Epoch [29/500], Loss: 1.7899, score: 0.1541\n",
      "Epoch [30/500], Loss: 1.7844, score: 0.1543\n",
      "Epoch [31/500], Loss: 1.7815, score: 0.1526\n",
      "Epoch [32/500], Loss: 1.7801, score: 0.1546\n",
      "Epoch [33/500], Loss: 1.7785, score: 0.1550\n",
      "Epoch [34/500], Loss: 1.7762, score: 0.1524\n",
      "Epoch [35/500], Loss: 1.7726, score: 0.1532\n",
      "Epoch [36/500], Loss: 1.7717, score: 0.1550\n",
      "Epoch [37/500], Loss: 1.7683, score: 0.1556\n",
      "Epoch [38/500], Loss: 1.7660, score: 0.1552\n",
      "Epoch [39/500], Loss: 1.7628, score: 0.1542\n",
      "Epoch [40/500], Loss: 1.7634, score: 0.1542\n",
      "Epoch [41/500], Loss: 1.7583, score: 0.1555\n",
      "Epoch [42/500], Loss: 1.7575, score: 0.1566\n",
      "Epoch [43/500], Loss: 1.7579, score: 0.1549\n",
      "Epoch [44/500], Loss: 1.7533, score: 0.1537\n",
      "Epoch [45/500], Loss: 1.7533, score: 0.1546\n",
      "Epoch [46/500], Loss: 1.7525, score: 0.1535\n",
      "Epoch [47/500], Loss: 1.7494, score: 0.1554\n",
      "Epoch [48/500], Loss: 1.7482, score: 0.1517\n",
      "Epoch [49/500], Loss: 1.7465, score: 0.1518\n",
      "Epoch [50/500], Loss: 1.7425, score: 0.1527\n",
      "Epoch [51/500], Loss: 1.7447, score: 0.1527\n",
      "Epoch [52/500], Loss: 1.7454, score: 0.1541\n",
      "Epoch [53/500], Loss: 1.7434, score: 0.1540\n",
      "Epoch [54/500], Loss: 1.7415, score: 0.1547\n",
      "Epoch [55/500], Loss: 1.7394, score: 0.1550\n",
      "Epoch [56/500], Loss: 1.7345, score: 0.1528\n",
      "Epoch [57/500], Loss: 1.7352, score: 0.1535\n",
      "Epoch [58/500], Loss: 1.7344, score: 0.1529\n",
      "Epoch [59/500], Loss: 1.7342, score: 0.1556\n",
      "Epoch [60/500], Loss: 1.7327, score: 0.1550\n",
      "Epoch [61/500], Loss: 1.7328, score: 0.1544\n",
      "Epoch [62/500], Loss: 1.7287, score: 0.1529\n",
      "Epoch [63/500], Loss: 1.7306, score: 0.1543\n",
      "Epoch [64/500], Loss: 1.7298, score: 0.1544\n",
      "Epoch [65/500], Loss: 1.7274, score: 0.1532\n",
      "Epoch [66/500], Loss: 1.7282, score: 0.1542\n",
      "Epoch [67/500], Loss: 1.7294, score: 0.1548\n",
      "Epoch [68/500], Loss: 1.7218, score: 0.1562\n",
      "Epoch [69/500], Loss: 1.7225, score: 0.1565\n",
      "Epoch [70/500], Loss: 1.7245, score: 0.1574\n",
      "Epoch [71/500], Loss: 1.7238, score: 0.1522\n",
      "Epoch [72/500], Loss: 1.7210, score: 0.1533\n",
      "Epoch [73/500], Loss: 1.7232, score: 0.1514\n",
      "Epoch [74/500], Loss: 1.7160, score: 0.1528\n",
      "Epoch [75/500], Loss: 1.7153, score: 0.1553\n",
      "Epoch [76/500], Loss: 1.7143, score: 0.1523\n",
      "Epoch [77/500], Loss: 1.7166, score: 0.1526\n",
      "Epoch [78/500], Loss: 1.7167, score: 0.1528\n",
      "Epoch [79/500], Loss: 1.7131, score: 0.1535\n",
      "Epoch [80/500], Loss: 1.7124, score: 0.1538\n",
      "Epoch [81/500], Loss: 1.7134, score: 0.1533\n",
      "Epoch [82/500], Loss: 1.7096, score: 0.1538\n",
      "Epoch [83/500], Loss: 1.7090, score: 0.1545\n",
      "Epoch [84/500], Loss: 1.7091, score: 0.1534\n",
      "Epoch [85/500], Loss: 1.7067, score: 0.1518\n",
      "Epoch [86/500], Loss: 1.7086, score: 0.1545\n",
      "Epoch [87/500], Loss: 1.7094, score: 0.1548\n",
      "Epoch [88/500], Loss: 1.7071, score: 0.1554\n",
      "Epoch [89/500], Loss: 1.7103, score: 0.1536\n",
      "Epoch [90/500], Loss: 1.7049, score: 0.1499\n",
      "Epoch [91/500], Loss: 1.7092, score: 0.1538\n",
      "Epoch [92/500], Loss: 1.7048, score: 0.1540\n",
      "Epoch [93/500], Loss: 1.7032, score: 0.1536\n",
      "Epoch [94/500], Loss: 1.7030, score: 0.1508\n",
      "Epoch [95/500], Loss: 1.7050, score: 0.1523\n",
      "Epoch [96/500], Loss: 1.7059, score: 0.1546\n",
      "Epoch [97/500], Loss: 1.7008, score: 0.1498\n",
      "Epoch [98/500], Loss: 1.7026, score: 0.1542\n",
      "Epoch [99/500], Loss: 1.7001, score: 0.1519\n",
      "Epoch [100/500], Loss: 1.7001, score: 0.1534\n",
      "Epoch [101/500], Loss: 1.6999, score: 0.1528\n",
      "Epoch [102/500], Loss: 1.6967, score: 0.1541\n",
      "Epoch [103/500], Loss: 1.6958, score: 0.1545\n",
      "Epoch [104/500], Loss: 1.6986, score: 0.1546\n",
      "Epoch [105/500], Loss: 1.6976, score: 0.1533\n",
      "Epoch [106/500], Loss: 1.6961, score: 0.1528\n",
      "Epoch [107/500], Loss: 1.6949, score: 0.1561\n",
      "Epoch [108/500], Loss: 1.6954, score: 0.1526\n",
      "Epoch [109/500], Loss: 1.6929, score: 0.1510\n",
      "Epoch [110/500], Loss: 1.6920, score: 0.1514\n",
      "Epoch [111/500], Loss: 1.6949, score: 0.1546\n",
      "Epoch [112/500], Loss: 1.6924, score: 0.1535\n",
      "Epoch [113/500], Loss: 1.6922, score: 0.1502\n",
      "Epoch [114/500], Loss: 1.6909, score: 0.1528\n",
      "Epoch [115/500], Loss: 1.6889, score: 0.1539\n",
      "Epoch [116/500], Loss: 1.6883, score: 0.1528\n",
      "Epoch [117/500], Loss: 1.6900, score: 0.1542\n",
      "Epoch [118/500], Loss: 1.6915, score: 0.1509\n",
      "Epoch [119/500], Loss: 1.6875, score: 0.1533\n",
      "Epoch [120/500], Loss: 1.6900, score: 0.1548\n",
      "Epoch [121/500], Loss: 1.6893, score: 0.1555\n",
      "Epoch [122/500], Loss: 1.6872, score: 0.1522\n",
      "Epoch [123/500], Loss: 1.6877, score: 0.1521\n",
      "Epoch [124/500], Loss: 1.6883, score: 0.1537\n",
      "Epoch [125/500], Loss: 1.6873, score: 0.1514\n",
      "Epoch [126/500], Loss: 1.6856, score: 0.1496\n",
      "Epoch [127/500], Loss: 1.6848, score: 0.1527\n",
      "Epoch [128/500], Loss: 1.6857, score: 0.1537\n",
      "Epoch [129/500], Loss: 1.6849, score: 0.1534\n",
      "Epoch [130/500], Loss: 1.6839, score: 0.1519\n",
      "Epoch [131/500], Loss: 1.6816, score: 0.1558\n",
      "Epoch [132/500], Loss: 1.6831, score: 0.1520\n",
      "Epoch [133/500], Loss: 1.6831, score: 0.1532\n",
      "Epoch [134/500], Loss: 1.6834, score: 0.1540\n",
      "Epoch [135/500], Loss: 1.6822, score: 0.1502\n",
      "Epoch [136/500], Loss: 1.6837, score: 0.1524\n",
      "Epoch [137/500], Loss: 1.6820, score: 0.1511\n",
      "Epoch [138/500], Loss: 1.6801, score: 0.1521\n",
      "Epoch [139/500], Loss: 1.6819, score: 0.1494\n",
      "Epoch [140/500], Loss: 1.6801, score: 0.1540\n",
      "Epoch [141/500], Loss: 1.6782, score: 0.1544\n",
      "Epoch [142/500], Loss: 1.6818, score: 0.1544\n",
      "Epoch [143/500], Loss: 1.6816, score: 0.1509\n",
      "Epoch [144/500], Loss: 1.6762, score: 0.1543\n",
      "Epoch [145/500], Loss: 1.6786, score: 0.1543\n",
      "Epoch [146/500], Loss: 1.6759, score: 0.1559\n",
      "Epoch [147/500], Loss: 1.6795, score: 0.1504\n",
      "Epoch [148/500], Loss: 1.6794, score: 0.1549\n",
      "Epoch [149/500], Loss: 1.6753, score: 0.1525\n",
      "Epoch [150/500], Loss: 1.6749, score: 0.1521\n",
      "Epoch [151/500], Loss: 1.6731, score: 0.1504\n",
      "Epoch [152/500], Loss: 1.6758, score: 0.1516\n",
      "Epoch [153/500], Loss: 1.6752, score: 0.1500\n",
      "Epoch [154/500], Loss: 1.6759, score: 0.1494\n",
      "Epoch [155/500], Loss: 1.6752, score: 0.1536\n",
      "Epoch [156/500], Loss: 1.6776, score: 0.1525\n",
      "Epoch [157/500], Loss: 1.6739, score: 0.1529\n",
      "Epoch [158/500], Loss: 1.6722, score: 0.1497\n",
      "Epoch [159/500], Loss: 1.6723, score: 0.1507\n",
      "Epoch [160/500], Loss: 1.6751, score: 0.1478\n",
      "Epoch [161/500], Loss: 1.6745, score: 0.1531\n",
      "Epoch [162/500], Loss: 1.6735, score: 0.1553\n",
      "Epoch [163/500], Loss: 1.6727, score: 0.1530\n",
      "Epoch [164/500], Loss: 1.6709, score: 0.1537\n",
      "Epoch [165/500], Loss: 1.6742, score: 0.1526\n",
      "Epoch [166/500], Loss: 1.6710, score: 0.1522\n",
      "Epoch [167/500], Loss: 1.6725, score: 0.1492\n",
      "Epoch [168/500], Loss: 1.6716, score: 0.1527\n",
      "Epoch [169/500], Loss: 1.6672, score: 0.1512\n",
      "Epoch [170/500], Loss: 1.6707, score: 0.1556\n",
      "Epoch [171/500], Loss: 1.6677, score: 0.1521\n",
      "Epoch [172/500], Loss: 1.6669, score: 0.1512\n",
      "Epoch [173/500], Loss: 1.6691, score: 0.1535\n",
      "Epoch [174/500], Loss: 1.6679, score: 0.1537\n",
      "Epoch [175/500], Loss: 1.6662, score: 0.1502\n",
      "Epoch [176/500], Loss: 1.6679, score: 0.1517\n",
      "Epoch [177/500], Loss: 1.6669, score: 0.1531\n",
      "Epoch [178/500], Loss: 1.6680, score: 0.1497\n",
      "Epoch [179/500], Loss: 1.6673, score: 0.1531\n",
      "Epoch [180/500], Loss: 1.6702, score: 0.1512\n",
      "Epoch [181/500], Loss: 1.6643, score: 0.1544\n",
      "Epoch [182/500], Loss: 1.6670, score: 0.1504\n",
      "Epoch [183/500], Loss: 1.6643, score: 0.1526\n",
      "Epoch [184/500], Loss: 1.6658, score: 0.1538\n",
      "Epoch [185/500], Loss: 1.6669, score: 0.1471\n",
      "Epoch [186/500], Loss: 1.6650, score: 0.1514\n",
      "Epoch [187/500], Loss: 1.6678, score: 0.1522\n",
      "Epoch [188/500], Loss: 1.6632, score: 0.1534\n",
      "Epoch [189/500], Loss: 1.6668, score: 0.1526\n",
      "Epoch [190/500], Loss: 1.6665, score: 0.1541\n",
      "Epoch [191/500], Loss: 1.6644, score: 0.1528\n",
      "Epoch [192/500], Loss: 1.6605, score: 0.1537\n",
      "Epoch [193/500], Loss: 1.6643, score: 0.1515\n",
      "Epoch [194/500], Loss: 1.6643, score: 0.1501\n",
      "Epoch [195/500], Loss: 1.6643, score: 0.1483\n",
      "Epoch [196/500], Loss: 1.6601, score: 0.1511\n",
      "Epoch [197/500], Loss: 1.6644, score: 0.1521\n",
      "Epoch [198/500], Loss: 1.6629, score: 0.1512\n",
      "Epoch [199/500], Loss: 1.6593, score: 0.1511\n",
      "Epoch [200/500], Loss: 1.6613, score: 0.1522\n",
      "Epoch [201/500], Loss: 1.6615, score: 0.1513\n",
      "Epoch [202/500], Loss: 1.6602, score: 0.1523\n",
      "Epoch [203/500], Loss: 1.6589, score: 0.1531\n",
      "Epoch [204/500], Loss: 1.6586, score: 0.1536\n",
      "Epoch [205/500], Loss: 1.6588, score: 0.1531\n",
      "Epoch [206/500], Loss: 1.6627, score: 0.1535\n",
      "Epoch [207/500], Loss: 1.6577, score: 0.1506\n",
      "Epoch [208/500], Loss: 1.6602, score: 0.1533\n",
      "Epoch [209/500], Loss: 1.6555, score: 0.1504\n",
      "Epoch [210/500], Loss: 1.6608, score: 0.1516\n",
      "Epoch [211/500], Loss: 1.6567, score: 0.1525\n",
      "Epoch [212/500], Loss: 1.6590, score: 0.1532\n",
      "Epoch [213/500], Loss: 1.6598, score: 0.1530\n",
      "Epoch [214/500], Loss: 1.6585, score: 0.1511\n",
      "Epoch [215/500], Loss: 1.6576, score: 0.1503\n",
      "Epoch [216/500], Loss: 1.6560, score: 0.1491\n",
      "Epoch [217/500], Loss: 1.6554, score: 0.1528\n",
      "Epoch [218/500], Loss: 1.6558, score: 0.1535\n",
      "Epoch [219/500], Loss: 1.6563, score: 0.1526\n",
      "Epoch [220/500], Loss: 1.6544, score: 0.1527\n",
      "Epoch [221/500], Loss: 1.6561, score: 0.1495\n",
      "Epoch [222/500], Loss: 1.6559, score: 0.1524\n",
      "Epoch [223/500], Loss: 1.6577, score: 0.1496\n",
      "Epoch [224/500], Loss: 1.6546, score: 0.1512\n",
      "Epoch [225/500], Loss: 1.6540, score: 0.1532\n",
      "Epoch [226/500], Loss: 1.6536, score: 0.1526\n",
      "Epoch [227/500], Loss: 1.6531, score: 0.1529\n",
      "Epoch [228/500], Loss: 1.6547, score: 0.1519\n",
      "Epoch [229/500], Loss: 1.6582, score: 0.1503\n",
      "Epoch [230/500], Loss: 1.6542, score: 0.1507\n",
      "Epoch [231/500], Loss: 1.6548, score: 0.1519\n",
      "Epoch [232/500], Loss: 1.6568, score: 0.1458\n",
      "Epoch [233/500], Loss: 1.6521, score: 0.1511\n",
      "Epoch [234/500], Loss: 1.6544, score: 0.1505\n",
      "Epoch [235/500], Loss: 1.6527, score: 0.1527\n",
      "Epoch [236/500], Loss: 1.6552, score: 0.1522\n",
      "Epoch [237/500], Loss: 1.6542, score: 0.1474\n",
      "Epoch [238/500], Loss: 1.6488, score: 0.1514\n",
      "Epoch [239/500], Loss: 1.6530, score: 0.1526\n",
      "Epoch [240/500], Loss: 1.6531, score: 0.1512\n",
      "Epoch [241/500], Loss: 1.6502, score: 0.1514\n",
      "Epoch [242/500], Loss: 1.6514, score: 0.1493\n",
      "Epoch [243/500], Loss: 1.6533, score: 0.1494\n",
      "Epoch [244/500], Loss: 1.6516, score: 0.1519\n",
      "Epoch [245/500], Loss: 1.6492, score: 0.1529\n",
      "Epoch [246/500], Loss: 1.6510, score: 0.1525\n",
      "Epoch [247/500], Loss: 1.6535, score: 0.1516\n",
      "Epoch [248/500], Loss: 1.6512, score: 0.1505\n",
      "Epoch [249/500], Loss: 1.6506, score: 0.1496\n",
      "Epoch [250/500], Loss: 1.6546, score: 0.1515\n",
      "Epoch [251/500], Loss: 1.6484, score: 0.1509\n",
      "Epoch [252/500], Loss: 1.6513, score: 0.1517\n",
      "Epoch [253/500], Loss: 1.6508, score: 0.1496\n",
      "Epoch [254/500], Loss: 1.6506, score: 0.1530\n",
      "Epoch [255/500], Loss: 1.6495, score: 0.1519\n",
      "Epoch [256/500], Loss: 1.6491, score: 0.1525\n",
      "Epoch [257/500], Loss: 1.6468, score: 0.1523\n",
      "Epoch [258/500], Loss: 1.6496, score: 0.1486\n",
      "Epoch [259/500], Loss: 1.6501, score: 0.1541\n",
      "Epoch [260/500], Loss: 1.6461, score: 0.1492\n",
      "Epoch [261/500], Loss: 1.6511, score: 0.1530\n",
      "Epoch [262/500], Loss: 1.6496, score: 0.1491\n",
      "Epoch [263/500], Loss: 1.6485, score: 0.1511\n",
      "Epoch [264/500], Loss: 1.6501, score: 0.1531\n",
      "Epoch [265/500], Loss: 1.6502, score: 0.1511\n",
      "Epoch [266/500], Loss: 1.6491, score: 0.1500\n",
      "Epoch [267/500], Loss: 1.6488, score: 0.1542\n",
      "Epoch [268/500], Loss: 1.6471, score: 0.1498\n",
      "Epoch [269/500], Loss: 1.6475, score: 0.1494\n",
      "Epoch [270/500], Loss: 1.6507, score: 0.1507\n",
      "Epoch [271/500], Loss: 1.6502, score: 0.1515\n",
      "Epoch [272/500], Loss: 1.6546, score: 0.1495\n",
      "Epoch [273/500], Loss: 1.6503, score: 0.1499\n",
      "Epoch [274/500], Loss: 1.6501, score: 0.1506\n",
      "Epoch [275/500], Loss: 1.6455, score: 0.1510\n",
      "Epoch [276/500], Loss: 1.6454, score: 0.1505\n",
      "Epoch [277/500], Loss: 1.6413, score: 0.1517\n",
      "Epoch [278/500], Loss: 1.6465, score: 0.1524\n",
      "Epoch [279/500], Loss: 1.6463, score: 0.1504\n",
      "Epoch [280/500], Loss: 1.6483, score: 0.1514\n",
      "Epoch [281/500], Loss: 1.6433, score: 0.1512\n",
      "Epoch [282/500], Loss: 1.6472, score: 0.1525\n",
      "Epoch [283/500], Loss: 1.6426, score: 0.1543\n",
      "Epoch [284/500], Loss: 1.6437, score: 0.1495\n",
      "Epoch [285/500], Loss: 1.6458, score: 0.1521\n",
      "Epoch [286/500], Loss: 1.6453, score: 0.1529\n",
      "Epoch [287/500], Loss: 1.6427, score: 0.1534\n",
      "Epoch [288/500], Loss: 1.6444, score: 0.1502\n",
      "Epoch [289/500], Loss: 1.6459, score: 0.1521\n",
      "Epoch [290/500], Loss: 1.6495, score: 0.1496\n",
      "Epoch [291/500], Loss: 1.6478, score: 0.1524\n",
      "Epoch [292/500], Loss: 1.6413, score: 0.1515\n",
      "Epoch [293/500], Loss: 1.6435, score: 0.1506\n",
      "Epoch [294/500], Loss: 1.6465, score: 0.1515\n",
      "Epoch [295/500], Loss: 1.6418, score: 0.1510\n",
      "Epoch [296/500], Loss: 1.6440, score: 0.1526\n",
      "Epoch [297/500], Loss: 1.6429, score: 0.1511\n",
      "Epoch [298/500], Loss: 1.6423, score: 0.1497\n",
      "Epoch [299/500], Loss: 1.6390, score: 0.1499\n",
      "Epoch [300/500], Loss: 1.6429, score: 0.1478\n",
      "Epoch [301/500], Loss: 1.6458, score: 0.1506\n",
      "Epoch [302/500], Loss: 1.6443, score: 0.1552\n",
      "Epoch [303/500], Loss: 1.6429, score: 0.1487\n",
      "Epoch [304/500], Loss: 1.6419, score: 0.1521\n",
      "Epoch [305/500], Loss: 1.6445, score: 0.1526\n",
      "Epoch [306/500], Loss: 1.6377, score: 0.1516\n",
      "Epoch [307/500], Loss: 1.6442, score: 0.1522\n",
      "Epoch [308/500], Loss: 1.6427, score: 0.1553\n",
      "Epoch [309/500], Loss: 1.6393, score: 0.1521\n",
      "Epoch [310/500], Loss: 1.6409, score: 0.1531\n",
      "Epoch [311/500], Loss: 1.6426, score: 0.1519\n",
      "Epoch [312/500], Loss: 1.6426, score: 0.1487\n",
      "Epoch [313/500], Loss: 1.6424, score: 0.1533\n",
      "Epoch [314/500], Loss: 1.6409, score: 0.1493\n",
      "Epoch [315/500], Loss: 1.6443, score: 0.1505\n",
      "Epoch [316/500], Loss: 1.6426, score: 0.1528\n",
      "Epoch [317/500], Loss: 1.6408, score: 0.1520\n",
      "Epoch [318/500], Loss: 1.6382, score: 0.1500\n",
      "Epoch [319/500], Loss: 1.6402, score: 0.1518\n",
      "Epoch [320/500], Loss: 1.6371, score: 0.1485\n",
      "Epoch [321/500], Loss: 1.6391, score: 0.1502\n",
      "Epoch [322/500], Loss: 1.6379, score: 0.1497\n",
      "Epoch [323/500], Loss: 1.6393, score: 0.1516\n",
      "Epoch [324/500], Loss: 1.6388, score: 0.1505\n",
      "Epoch [325/500], Loss: 1.6403, score: 0.1470\n",
      "Epoch [326/500], Loss: 1.6399, score: 0.1486\n",
      "Epoch [327/500], Loss: 1.6378, score: 0.1513\n",
      "Epoch [328/500], Loss: 1.6392, score: 0.1503\n",
      "Epoch [329/500], Loss: 1.6405, score: 0.1521\n",
      "Epoch [330/500], Loss: 1.6406, score: 0.1490\n",
      "Epoch [331/500], Loss: 1.6373, score: 0.1517\n",
      "Epoch [332/500], Loss: 1.6384, score: 0.1505\n",
      "Epoch [333/500], Loss: 1.6389, score: 0.1498\n",
      "Epoch [334/500], Loss: 1.6382, score: 0.1515\n",
      "Epoch [335/500], Loss: 1.6403, score: 0.1515\n",
      "Epoch [336/500], Loss: 1.6384, score: 0.1515\n",
      "Epoch [337/500], Loss: 1.6370, score: 0.1507\n",
      "Epoch [338/500], Loss: 1.6375, score: 0.1516\n",
      "Epoch [339/500], Loss: 1.6380, score: 0.1479\n",
      "Epoch [340/500], Loss: 1.6325, score: 0.1512\n",
      "Epoch [341/500], Loss: 1.6351, score: 0.1510\n",
      "Epoch [342/500], Loss: 1.6351, score: 0.1514\n",
      "Epoch [343/500], Loss: 1.6371, score: 0.1538\n",
      "Epoch [344/500], Loss: 1.6346, score: 0.1525\n",
      "Epoch [345/500], Loss: 1.6377, score: 0.1461\n",
      "Epoch [346/500], Loss: 1.6364, score: 0.1499\n",
      "Epoch [347/500], Loss: 1.6336, score: 0.1512\n",
      "Epoch [348/500], Loss: 1.6348, score: 0.1519\n",
      "Epoch [349/500], Loss: 1.6355, score: 0.1523\n",
      "Epoch [350/500], Loss: 1.6390, score: 0.1533\n",
      "Epoch [351/500], Loss: 1.6372, score: 0.1517\n",
      "Epoch [352/500], Loss: 1.6347, score: 0.1482\n",
      "Epoch [353/500], Loss: 1.6359, score: 0.1521\n",
      "Epoch [354/500], Loss: 1.6381, score: 0.1509\n",
      "Epoch [355/500], Loss: 1.6371, score: 0.1479\n",
      "Epoch [356/500], Loss: 1.6342, score: 0.1478\n",
      "Epoch [357/500], Loss: 1.6346, score: 0.1464\n",
      "Epoch [358/500], Loss: 1.6326, score: 0.1513\n",
      "Epoch [359/500], Loss: 1.6341, score: 0.1506\n",
      "Epoch [360/500], Loss: 1.6368, score: 0.1512\n",
      "Epoch [361/500], Loss: 1.6334, score: 0.1520\n",
      "Epoch [362/500], Loss: 1.6304, score: 0.1502\n",
      "Epoch [363/500], Loss: 1.6354, score: 0.1513\n",
      "Epoch [364/500], Loss: 1.6354, score: 0.1464\n",
      "Epoch [365/500], Loss: 1.6339, score: 0.1509\n",
      "Epoch [366/500], Loss: 1.6325, score: 0.1491\n",
      "Epoch [367/500], Loss: 1.6350, score: 0.1500\n",
      "Epoch [368/500], Loss: 1.6329, score: 0.1507\n",
      "Epoch [369/500], Loss: 1.6364, score: 0.1511\n",
      "Epoch [370/500], Loss: 1.6332, score: 0.1472\n",
      "Epoch [371/500], Loss: 1.6368, score: 0.1528\n",
      "Epoch [372/500], Loss: 1.6322, score: 0.1507\n",
      "Epoch [373/500], Loss: 1.6312, score: 0.1514\n",
      "Epoch [374/500], Loss: 1.6368, score: 0.1543\n",
      "Epoch [375/500], Loss: 1.6337, score: 0.1503\n",
      "Epoch [376/500], Loss: 1.6310, score: 0.1516\n",
      "Epoch [377/500], Loss: 1.6338, score: 0.1493\n",
      "Epoch [378/500], Loss: 1.6308, score: 0.1505\n",
      "Epoch [379/500], Loss: 1.6296, score: 0.1520\n",
      "Epoch [380/500], Loss: 1.6312, score: 0.1520\n",
      "Epoch [381/500], Loss: 1.6335, score: 0.1502\n",
      "Epoch [382/500], Loss: 1.6335, score: 0.1483\n",
      "Epoch [383/500], Loss: 1.6322, score: 0.1510\n",
      "Epoch [384/500], Loss: 1.6330, score: 0.1483\n",
      "Epoch [385/500], Loss: 1.6342, score: 0.1521\n",
      "Epoch [386/500], Loss: 1.6335, score: 0.1537\n",
      "Epoch [387/500], Loss: 1.6353, score: 0.1510\n",
      "Epoch [388/500], Loss: 1.6314, score: 0.1551\n",
      "Epoch [389/500], Loss: 1.6277, score: 0.1500\n",
      "Epoch [390/500], Loss: 1.6306, score: 0.1507\n",
      "Epoch [391/500], Loss: 1.6335, score: 0.1528\n",
      "Epoch [392/500], Loss: 1.6340, score: 0.1496\n",
      "Epoch [393/500], Loss: 1.6309, score: 0.1509\n",
      "Epoch [394/500], Loss: 1.6321, score: 0.1489\n",
      "Epoch [395/500], Loss: 1.6295, score: 0.1496\n",
      "Epoch [396/500], Loss: 1.6323, score: 0.1535\n",
      "Epoch [397/500], Loss: 1.6304, score: 0.1538\n",
      "Epoch [398/500], Loss: 1.6331, score: 0.1526\n",
      "Epoch [399/500], Loss: 1.6295, score: 0.1493\n",
      "Epoch [400/500], Loss: 1.6305, score: 0.1508\n",
      "Epoch [401/500], Loss: 1.6297, score: 0.1486\n",
      "Epoch [402/500], Loss: 1.6306, score: 0.1518\n",
      "Epoch [403/500], Loss: 1.6333, score: 0.1515\n",
      "Epoch [404/500], Loss: 1.6304, score: 0.1526\n",
      "Epoch [405/500], Loss: 1.6319, score: 0.1502\n",
      "Epoch [406/500], Loss: 1.6274, score: 0.1497\n",
      "Epoch [407/500], Loss: 1.6348, score: 0.1515\n",
      "Epoch [408/500], Loss: 1.6325, score: 0.1527\n",
      "Epoch [409/500], Loss: 1.6285, score: 0.1511\n",
      "Epoch [410/500], Loss: 1.6284, score: 0.1509\n",
      "Epoch [411/500], Loss: 1.6309, score: 0.1528\n",
      "Epoch [412/500], Loss: 1.6299, score: 0.1495\n",
      "Epoch [413/500], Loss: 1.6322, score: 0.1466\n",
      "Epoch [414/500], Loss: 1.6296, score: 0.1535\n",
      "Epoch [415/500], Loss: 1.6326, score: 0.1526\n",
      "Epoch [416/500], Loss: 1.6282, score: 0.1485\n",
      "Epoch [417/500], Loss: 1.6265, score: 0.1506\n",
      "Epoch [418/500], Loss: 1.6279, score: 0.1518\n",
      "Epoch [419/500], Loss: 1.6272, score: 0.1487\n",
      "Epoch [420/500], Loss: 1.6297, score: 0.1522\n",
      "Epoch [421/500], Loss: 1.6283, score: 0.1544\n",
      "Epoch [422/500], Loss: 1.6269, score: 0.1483\n",
      "Epoch [423/500], Loss: 1.6262, score: 0.1511\n",
      "Epoch [424/500], Loss: 1.6269, score: 0.1501\n",
      "Epoch [425/500], Loss: 1.6304, score: 0.1505\n",
      "Epoch [426/500], Loss: 1.6270, score: 0.1505\n",
      "Epoch [427/500], Loss: 1.6283, score: 0.1520\n",
      "Epoch [428/500], Loss: 1.6254, score: 0.1521\n",
      "Epoch [429/500], Loss: 1.6245, score: 0.1492\n",
      "Epoch [430/500], Loss: 1.6313, score: 0.1488\n",
      "Epoch [431/500], Loss: 1.6276, score: 0.1531\n",
      "Epoch [432/500], Loss: 1.6288, score: 0.1503\n",
      "Epoch [433/500], Loss: 1.6302, score: 0.1501\n",
      "Epoch [434/500], Loss: 1.6314, score: 0.1493\n",
      "Epoch [435/500], Loss: 1.6249, score: 0.1504\n",
      "Epoch [436/500], Loss: 1.6284, score: 0.1507\n",
      "Epoch [437/500], Loss: 1.6247, score: 0.1518\n",
      "Epoch [438/500], Loss: 1.6266, score: 0.1532\n",
      "Epoch [439/500], Loss: 1.6282, score: 0.1516\n",
      "Epoch [440/500], Loss: 1.6271, score: 0.1509\n",
      "Epoch [441/500], Loss: 1.6261, score: 0.1540\n",
      "Epoch [442/500], Loss: 1.6253, score: 0.1514\n",
      "Epoch [443/500], Loss: 1.6273, score: 0.1484\n",
      "Epoch [444/500], Loss: 1.6297, score: 0.1492\n",
      "Epoch [445/500], Loss: 1.6276, score: 0.1475\n",
      "Epoch [446/500], Loss: 1.6266, score: 0.1498\n",
      "Epoch [447/500], Loss: 1.6264, score: 0.1502\n",
      "Epoch [448/500], Loss: 1.6259, score: 0.1468\n",
      "Epoch [449/500], Loss: 1.6255, score: 0.1499\n",
      "Epoch [450/500], Loss: 1.6253, score: 0.1506\n",
      "Epoch [451/500], Loss: 1.6281, score: 0.1514\n",
      "Epoch [452/500], Loss: 1.6258, score: 0.1505\n",
      "Epoch [453/500], Loss: 1.6240, score: 0.1499\n",
      "Epoch [454/500], Loss: 1.6244, score: 0.1471\n",
      "Epoch [455/500], Loss: 1.6269, score: 0.1526\n",
      "Epoch [456/500], Loss: 1.6233, score: 0.1528\n",
      "Epoch [457/500], Loss: 1.6219, score: 0.1513\n",
      "Epoch [458/500], Loss: 1.6260, score: 0.1518\n",
      "Epoch [459/500], Loss: 1.6285, score: 0.1522\n",
      "Epoch [460/500], Loss: 1.6294, score: 0.1503\n",
      "Epoch [461/500], Loss: 1.6287, score: 0.1526\n",
      "Epoch [462/500], Loss: 1.6268, score: 0.1475\n",
      "Epoch [463/500], Loss: 1.6243, score: 0.1523\n",
      "Epoch [464/500], Loss: 1.6246, score: 0.1499\n",
      "Epoch [465/500], Loss: 1.6239, score: 0.1527\n",
      "Epoch [466/500], Loss: 1.6271, score: 0.1487\n",
      "Epoch [467/500], Loss: 1.6249, score: 0.1502\n",
      "Epoch [468/500], Loss: 1.6245, score: 0.1530\n",
      "Epoch [469/500], Loss: 1.6216, score: 0.1517\n",
      "Epoch [470/500], Loss: 1.6255, score: 0.1496\n",
      "Epoch [471/500], Loss: 1.6241, score: 0.1477\n",
      "Epoch [472/500], Loss: 1.6269, score: 0.1495\n",
      "Epoch [473/500], Loss: 1.6225, score: 0.1468\n",
      "Epoch [474/500], Loss: 1.6238, score: 0.1501\n",
      "Epoch [475/500], Loss: 1.6208, score: 0.1514\n",
      "Epoch [476/500], Loss: 1.6224, score: 0.1497\n",
      "Epoch [477/500], Loss: 1.6243, score: 0.1510\n",
      "Epoch [478/500], Loss: 1.6199, score: 0.1515\n",
      "Epoch [479/500], Loss: 1.6238, score: 0.1496\n",
      "Epoch [480/500], Loss: 1.6241, score: 0.1523\n",
      "Epoch [481/500], Loss: 1.6261, score: 0.1491\n",
      "Epoch [482/500], Loss: 1.6244, score: 0.1519\n",
      "Epoch [483/500], Loss: 1.6245, score: 0.1518\n",
      "Epoch [484/500], Loss: 1.6216, score: 0.1502\n",
      "Epoch [485/500], Loss: 1.6208, score: 0.1527\n",
      "Epoch [486/500], Loss: 1.6202, score: 0.1487\n",
      "Epoch [487/500], Loss: 1.6228, score: 0.1514\n",
      "Epoch [488/500], Loss: 1.6242, score: 0.1473\n",
      "Epoch [489/500], Loss: 1.6206, score: 0.1462\n",
      "Epoch [490/500], Loss: 1.6179, score: 0.1491\n",
      "Epoch [491/500], Loss: 1.6211, score: 0.1508\n",
      "Epoch [492/500], Loss: 1.6217, score: 0.1549\n",
      "Epoch [493/500], Loss: 1.6246, score: 0.1499\n",
      "Epoch [494/500], Loss: 1.6283, score: 0.1545\n",
      "Epoch [495/500], Loss: 1.6254, score: 0.1434\n",
      "Epoch [496/500], Loss: 1.6242, score: 0.1495\n",
      "Epoch [497/500], Loss: 1.6215, score: 0.1521\n",
      "Epoch [498/500], Loss: 1.6231, score: 0.1523\n",
      "Epoch [499/500], Loss: 1.6240, score: 0.1533\n",
      "Epoch [500/500], Loss: 1.6255, score: 0.1500\n"
     ]
    }
   ],
   "source": [
    "epochs = 500\n",
    "\n",
    "loss, scores = train(m, train_dataloader, val_dataloader, epochs)"
   ]
  },
  {
   "cell_type": "code",
   "execution_count": 63,
   "metadata": {},
   "outputs": [
    {
     "data": {
      "text/plain": [
       "[<matplotlib.lines.Line2D at 0x7efd92d381f0>]"
      ]
     },
     "execution_count": 63,
     "metadata": {},
     "output_type": "execute_result"
    },
    {
     "data": {
      "image/png": "[encoded data removed]",
      "text/plain": [
       "<Figure size 640x480 with 1 Axes>"
      ]
     },
     "metadata": {},
     "output_type": "display_data"
    }
   ],
   "source": [
    "import matplotlib.pyplot as plt\n",
    "\n",
    "plt.plot(loss)\n"
   ]
  },
  {
   "cell_type": "code",
   "execution_count": 64,
   "metadata": {},
   "outputs": [
    {
     "data": {
      "text/plain": [
       "[<matplotlib.lines.Line2D at 0x7efd92d11160>]"
      ]
     },
     "execution_count": 64,
     "metadata": {},
     "output_type": "execute_result"
    },
    {
     "data": {
      "image/png": "[encoded data removed]",
      "text/plain": [
       "<Figure size 640x480 with 1 Axes>"
      ]
     },
     "metadata": {},
     "output_type": "display_data"
    }
   ],
   "source": [
    "plt.plot(scores)"
   ]
  },
  {
   "cell_type": "code",
   "execution_count": 65,
   "metadata": {},
   "outputs": [
    {
     "data": {
      "text/plain": [
       "0.1511781385263564"
      ]
     },
     "execution_count": 65,
     "metadata": {},
     "output_type": "execute_result"
    }
   ],
   "source": [
    "validate(m, fullval_dataloader)"
   ]
  },
  {
   "cell_type": "code",
   "execution_count": 32,
   "metadata": {},
   "outputs": [],
   "source": [
    "preds = test(m, test_dataloader)"
   ]
  }
 ],
 "metadata": {
  "kernelspec": {
   "display_name": "base",
   "language": "python",
   "name": "python3"
  },
  "language_info": {
   "codemirror_mode": {
    "name": "ipython",
    "version": 3
   },
   "file_extension": ".py",
   "mimetype": "text/x-python",
   "name": "python",
   "nbconvert_exporter": "python",
   "pygments_lexer": "ipython3",
   "version": "3.9.18"
  }
 },
 "nbformat": 4,
 "nbformat_minor": 2
}
